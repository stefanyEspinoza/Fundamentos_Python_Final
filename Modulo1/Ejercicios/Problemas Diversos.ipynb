{
 "cells": [
  {
   "cell_type": "markdown",
   "metadata": {},
   "source": [
    "# PROBLEMAS DIVERSOS"
   ]
  },
  {
   "cell_type": "markdown",
   "metadata": {},
   "source": [
    "<h3>1.</h3>\n",
    "Imagina que acabas de abrir una nueva cuenta de ahorros que te ofrece el 4% de interés al año. Estos ahorros debido a intereses, que no se cobran hasta finales de año, se te añaden al balance final de tu cuenta de ahorros. Escribir un programa que comience leyendo la cantidad de dinero depositada en la cuenta de ahorros, introducida por el usuario. Después el programa debe calcular y mostrar por pantalla la cantidad de ahorros tras el primer, segundo y tercer años. Redondear cada cantidad a dos decimales."
   ]
  },
  {
   "cell_type": "code",
   "execution_count": 22,
   "metadata": {},
   "outputs": [
    {
     "name": "stdin",
     "output_type": "stream",
     "text": [
      "Ingrese el monto depositado:  230\n"
     ]
    },
    {
     "name": "stdout",
     "output_type": "stream",
     "text": [
      "Año1:239.2\n",
      "Año2:248.77\n",
      "Año3:258.72\n"
     ]
    }
   ],
   "source": [
    "\n",
    "numero=float(input(\"Ingrese el monto depositado: \"))\n",
    "interes=0.04\n",
    "año1 = numero * (1 + interes)\n",
    "print(\"Año1:\" + str(round(año1, 2)))\n",
    "año2 = año1 * (1 + interes)\n",
    "print(\"Año2:\" + str(round(año2, 2)))\n",
    "año3 = año2 * (1 + interes)\n",
    "print(\"Año3:\" + str(round(año3, 2)))\n"
   ]
  },
  {
   "cell_type": "markdown",
   "metadata": {},
   "source": [
    "### 2.\n",
    "Escriba un programa que pida los coeficientes de una ecuación de segundo grado <code>(a x² + b x + c = 0)</code> y escriba la solución.\n",
    "\n",
    "Se recuerda que una ecuación de segundo grado puede no tener solución, tener una solución única, tener dos soluciones o que todos los números sean solución."
   ]
  },
  {
   "cell_type": "markdown",
   "metadata": {},
   "source": [
    "<img src='https://i.pinimg.com/originals/d3/f7/01/d3f701528ad56ce0f5a98d7c91722fd7.png'>"
   ]
  },
  {
   "cell_type": "markdown",
   "metadata": {},
   "source": [
    "Su programa debe indicar:\n",
    "- En caso la ecuación cuadrática tenga solución real, su programa debe brindar la solución\n",
    "- En caso su ecuación no tenga solución real, su programa debe brindar un mensaje que diga \"Ecuación no presenta solución real\""
   ]
  },
  {
   "cell_type": "code",
   "execution_count": 28,
   "metadata": {},
   "outputs": [
    {
     "name": "stdout",
     "output_type": "stream",
     "text": [
      "ECUACIÓN CUADRÁTICA: aX² + bX + c = 0\n"
     ]
    },
    {
     "name": "stdin",
     "output_type": "stream",
     "text": [
      "Escriba el valor de A:  2\n",
      "Escriba el valor de B:  -12\n",
      "Escriba el valor de C:  -16\n"
     ]
    },
    {
     "name": "stdout",
     "output_type": "stream",
     "text": [
      "La ecuación tiene dos soluciones: -1.1231056256176606 y 7.123105625617661\n"
     ]
    }
   ],
   "source": [
    "    print(\"ECUACIÓN CUADRÁTICA: aX² + bX + c = 0\")\n",
    "    a = float(input(\"Escriba el valor de A: \"))\n",
    "    b = float(input(\"Escriba el valor de B: \"))\n",
    "    c = float(input(\"Escriba el valor de C: \"))\n",
    "\n",
    "    if a == b == c == 0:\n",
    "        print(\"Todos los números son solución.\")\n",
    "    elif a == b == 0:\n",
    "        print(\"La ecuación no tiene solución.\")\n",
    "    elif a == 0:\n",
    "        print(f\"La ecuación tiene una solución: {- c / b}\")\n",
    "    else:\n",
    "        d = b * b - 4 * a * c\n",
    "        if d < 0:\n",
    "            print(\"La ecuación no tiene solución real.\")\n",
    "        elif d == 0:\n",
    "            print(f\"La ecuación tiene una solución: {- b / (2 * a)}\")\n",
    "        else:\n",
    "            print(\n",
    "                f\"La ecuación tiene dos soluciones: {(-b - d ** 0.5) / (2 * a)} y {(-b + d ** 0.5) / (2 * a)}\"\n",
    "            )\n",
    "\n"
   ]
  },
  {
   "cell_type": "code",
   "execution_count": null,
   "metadata": {},
   "outputs": [],
   "source": []
  }
 ],
 "metadata": {
  "kernelspec": {
   "display_name": "Python 3",
   "language": "python",
   "name": "python3"
  },
  "language_info": {
   "codemirror_mode": {
    "name": "ipython",
    "version": 3
   },
   "file_extension": ".py",
   "mimetype": "text/x-python",
   "name": "python",
   "nbconvert_exporter": "python",
   "pygments_lexer": "ipython3",
   "version": "3.8.8"
  }
 },
 "nbformat": 4,
 "nbformat_minor": 4
}
