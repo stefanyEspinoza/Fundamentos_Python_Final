{
 "cells": [
  {
   "cell_type": "markdown",
   "metadata": {},
   "source": [
    "# PROBLEMAS DIVERSOS"
   ]
  },
  {
   "cell_type": "markdown",
   "metadata": {},
   "source": [
    "<h3>1.</h3>\n",
    "Realizar una función que permita la carga de n alumnos. Por cada alumno se deberá preguntar el nombre completo y permitir el ingreso de 3 notas. Las notas deben estar comprendidas entre 0 y 10. Devolver el listado de alumnos."
   ]
  },
  {
   "cell_type": "code",
   "execution_count": 3,
   "metadata": {},
   "outputs": [
    {
     "name": "stdin",
     "output_type": "stream",
     "text": [
      "Ingrese la cantidad de alumnos:  2\n",
      "Ingrese el nombre del alumno: 12\n",
      "Ingrese el nombre del alumno: 12\n"
     ]
    },
    {
     "name": "stdout",
     "output_type": "stream",
     "text": [
      "12\n",
      "12\n"
     ]
    }
   ],
   "source": [
    "nombres=[]\n",
    "notas=[]\n",
    "n = int(input(\"Ingrese la cantidad de alumnos: \"))\n",
    "for x in range(n):\n",
    "    nom=input(\"Ingrese el nombre del alumno:\")\n",
    "    nombres.append(nom)\n",
    "    no1=int(input(\"Ingrese la primera nota:\"))\n",
    "    no2=int(input(\"Ingrese la segunda nota:\"))\n",
    "    no3=int(input(\"Ingrese la tercera nota:\"))\n",
    "    notas.append([no1,no2,no3])\n",
    "\n",
    "for x in range(n):\n",
    "    print(nombres[x],notas[x][0],notas[x][1],notas[x][2])"
   ]
  },
  {
   "cell_type": "markdown",
   "metadata": {},
   "source": [
    "### 2.\n",
    "Definir una función que dado un listado de alumnos evalúe cuántos aprobaron y cuántos desaprobaron, teniendo en cuenta que se aprueba con 4. La nota será el promedio de las 3 notas para cada alumno."
   ]
  },
  {
   "cell_type": "code",
   "execution_count": null,
   "metadata": {},
   "outputs": [],
   "source": [
    "prom=[]\n",
    "for x in range(n):\n",
    "    total=(notas[x][0]+notas[x][1]+notas[x][2])/3\n",
    "    prom.append(total)\n",
    "    print(nombres[x], prom[x])\n",
    "    while True:\n",
    "        if prom[x] == 0:\n",
    "            break\n",
    " \n",
    "        if prom[x] > 10:\n",
    "            continue\n",
    "        else:\n",
    "            if prom[x] < 4:\n",
    "                aplazados += 1\n",
    "            elif prom[x] >= 4 and prom <=10:\n",
    "                aprobados += 1\n",
    "print('\\nNumero de aprobados %d' %aprobados)\n",
    "print('Numero de aplazados %d' %aplazados)\n"
   ]
  },
  {
   "cell_type": "markdown",
   "metadata": {},
   "source": [
    "### 3.\n",
    "Informar el promedio de nota del curso total."
   ]
  },
  {
   "cell_type": "code",
   "execution_count": null,
   "metadata": {},
   "outputs": [],
   "source": [
    "total=0\n",
    "for x in range(n):\n",
    "    total=prom[x]/n\n",
    "for x in range(n):\n",
    "    print(total)\n"
   ]
  },
  {
   "cell_type": "code",
   "execution_count": null,
   "metadata": {},
   "outputs": [],
   "source": []
  },
  {
   "cell_type": "markdown",
   "metadata": {},
   "source": [
    "### 4.\n",
    "Realizar una función que indique quién tuvo el promedio más alto y quién tuvo la nota promedio más baja."
   ]
  },
  {
   "cell_type": "code",
   "execution_count": null,
   "metadata": {},
   "outputs": [],
   "source": [
    "may=0\n",
    "mayor=prom[0]\n",
    "men=0\n",
    "menor=prom[0]\n",
    "\n",
    "for x in range(1,n):\n",
    "    if prom[x]>mayor:\n",
    "        mayor=prom[x]\n",
    "        may=x\n",
    "for x in range(1,n):\n",
    "    if prom[x]<menor:\n",
    "        menor=prom[x]\n",
    "        men=x\n",
    "print(\"Alumno con mayor promedio\")\n",
    "print(nombres[may])\n",
    "print(\"con un promedio de\",mayor)\n",
    "print(\"Alumno con menor promedio\")\n",
    "print(nombres[men])\n",
    "print(\"con un promedio de\",menor)"
   ]
  },
  {
   "cell_type": "markdown",
   "metadata": {},
   "source": [
    "### 5.\n",
    "Realizar una función que permita buscar un alumno por nombre, siendo el nombre completo o parcial, y devuelva una lista con los n alumnos que concuerden con ese nombre junto con todos sus datos, incluido el promedio de sus notas."
   ]
  },
  {
   "cell_type": "code",
   "execution_count": null,
   "metadata": {},
   "outputs": [],
   "source": []
  }
 ],
 "metadata": {
  "kernelspec": {
   "display_name": "Python 3",
   "language": "python",
   "name": "python3"
  },
  "language_info": {
   "codemirror_mode": {
    "name": "ipython",
    "version": 3
   },
   "file_extension": ".py",
   "mimetype": "text/x-python",
   "name": "python",
   "nbconvert_exporter": "python",
   "pygments_lexer": "ipython3",
   "version": "3.8.8"
  }
 },
 "nbformat": 4,
 "nbformat_minor": 4
}
